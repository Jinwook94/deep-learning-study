{
 "cells": [
  {
   "cell_type": "code",
   "execution_count": 1,
   "metadata": {},
   "outputs": [],
   "source": [
    "import tensorflow as tf"
   ]
  },
  {
   "cell_type": "code",
   "execution_count": 2,
   "metadata": {},
   "outputs": [],
   "source": [
    "x_data= [1,2,3]\n",
    "y_data= [1,2,3]"
   ]
  },
  {
   "cell_type": "code",
   "execution_count": 3,
   "metadata": {},
   "outputs": [],
   "source": [
    "W = tf.Variable(tf.random_normal([1]), name='weight')\n",
    "X = tf.placeholder(tf.float32)\n",
    "Y = tf.placeholder(tf.float32)"
   ]
  },
  {
   "cell_type": "code",
   "execution_count": 5,
   "metadata": {},
   "outputs": [],
   "source": [
    "hypothesis = X * W\n",
    "\n",
    "# cost/loss function\n",
    "cost = tf.reduce_sum(tf.square(hypothesis - Y))"
   ]
  },
  {
   "cell_type": "code",
   "execution_count": 6,
   "metadata": {},
   "outputs": [],
   "source": [
    "learning_rate = 0.1\n",
    "gradient = tf.reduce_mean((W * X - Y) * X)\n",
    "descent = W - learning_rate * gradient\n",
    "update = W.assign(descent)"
   ]
  },
  {
   "cell_type": "code",
   "execution_count": 7,
   "metadata": {},
   "outputs": [],
   "source": [
    "# launch the graph in a session\n",
    "sess = tf.Session()\n",
    "\n",
    "# initializes global variables in the graph\n",
    "sess.run(tf.global_variables_initializer())"
   ]
  },
  {
   "cell_type": "code",
   "execution_count": 8,
   "metadata": {},
   "outputs": [
    {
     "name": "stdout",
     "output_type": "stream",
     "text": [
      "0 3.9508948 [0.46876863]\n",
      "1 1.1238103 [0.7166766]\n",
      "2 0.3196615 [0.8488942]\n",
      "3 0.09092596 [0.9194102]\n",
      "4 0.025863394 [0.9570188]\n",
      "5 0.0073566902 [0.9770767]\n",
      "6 0.0020925733 [0.98777425]\n",
      "7 0.0005952215 [0.9934796]\n",
      "8 0.00016930219 [0.9965225]\n",
      "9 4.8156595e-05 [0.99814534]\n",
      "10 1.3697192e-05 [0.99901086]\n",
      "11 3.8962953e-06 [0.99947244]\n",
      "12 1.1086531e-06 [0.9997186]\n",
      "13 3.1524763e-07 [0.9998499]\n",
      "14 8.968125e-08 [0.99991995]\n",
      "15 2.549848e-08 [0.9999573]\n",
      "16 7.2416952e-09 [0.99997723]\n",
      "17 2.0698963e-09 [0.99998784]\n",
      "18 5.932641e-10 [0.9999935]\n",
      "19 1.698055e-10 [0.99999654]\n",
      "20 4.7140958e-11 [0.99999815]\n"
     ]
    }
   ],
   "source": [
    "for step in range(21):\n",
    "    sess.run(update, feed_dict={X:x_data, Y: y_data})\n",
    "    print(step, sess.run(cost, feed_dict={X: x_data, Y:y_data}), sess.run(W))"
   ]
  },
  {
   "cell_type": "code",
   "execution_count": null,
   "metadata": {},
   "outputs": [],
   "source": []
  }
 ],
 "metadata": {
  "kernelspec": {
   "display_name": "Python 3",
   "language": "python",
   "name": "python3"
  },
  "language_info": {
   "codemirror_mode": {
    "name": "ipython",
    "version": 3
   },
   "file_extension": ".py",
   "mimetype": "text/x-python",
   "name": "python",
   "nbconvert_exporter": "python",
   "pygments_lexer": "ipython3",
   "version": "3.5.6"
  }
 },
 "nbformat": 4,
 "nbformat_minor": 2
}
